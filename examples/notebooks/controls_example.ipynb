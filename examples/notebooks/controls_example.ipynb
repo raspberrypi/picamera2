{
 "cells": [
  {
   "cell_type": "markdown",
   "metadata": {
    "collapsed": true,
    "pycharm": {
     "name": "#%% md\n"
    }
   },
   "source": [
    "# Controls Example\n",
    "\n",
    "If you want to run this notebook on your Raspberry Pi, but don't have Jupyter Notebook, you can install it with `pip`.\n",
    "\n",
    "`pip install jupyter`\n",
    "\n",
    "Then to run it, simply enter `jupyter-notebook` into the Raspberry Pi terminal\n",
    "and then navigate the `picamera2/examples/notebooks` folder to find this notebook.\n"
   ]
  },
  {
   "cell_type": "markdown",
   "metadata": {
    "pycharm": {
     "name": "#%% md\n"
    }
   },
   "source": [
    "## Setup"
   ]
  },
  {
   "cell_type": "code",
   "execution_count": 1,
   "metadata": {
    "pycharm": {
     "name": "#%%\n"
    }
   },
   "outputs": [
    {
     "name": "stderr",
     "output_type": "stream",
     "text": [
      "[0:18:18.889055277] [1775]  INFO Camera camera_manager.cpp:293 libcamera v0.0.0+3548-a11d63f9\n",
      "[0:18:18.926675706] [1789]  WARN CameraSensorProperties camera_sensor_properties.cpp:163 No static properties available for 'imx477'\n",
      "[0:18:18.926714539] [1789]  WARN CameraSensorProperties camera_sensor_properties.cpp:165 Please consider updating the camera sensor properties database\n",
      "[0:18:18.926733834] [1789] ERROR CameraSensor camera_sensor.cpp:591 'imx477 10-001a': Camera sensor does not support test pattern modes.\n",
      "[0:18:18.944477746] [1789]  INFO RPI raspberrypi.cpp:1352 Registered camera /base/soc/i2c0mux/i2c@1/imx477@1a to Unicam device /dev/media2 and ISP device /dev/media0\n"
     ]
    }
   ],
   "source": [
    "from picamera2.picamera2 import *\n",
    "picam2 = Picamera2()"
   ]
  },
  {
   "cell_type": "markdown",
   "metadata": {
    "pycharm": {
     "name": "#%% md\n"
    }
   },
   "source": [
    "## Method #1: Using the set_controls function."
   ]
  },
  {
   "cell_type": "code",
   "execution_count": 2,
   "metadata": {
    "pycharm": {
     "name": "#%%\n"
    }
   },
   "outputs": [],
   "source": [
    "my_controls = {'NoiseReductionMode': 2,\n",
    "               'Contrast': 1,\n",
    "               'Sharpness': 1}\n",
    "\n",
    "picam2.set_controls(my_controls)"
   ]
  },
  {
   "cell_type": "markdown",
   "metadata": {
    "pycharm": {
     "name": "#%% md\n"
    }
   },
   "source": [
    "The `Controls` class is automatically brought into the `Picamera2` class, so for most applications you probably won't need to\n",
    "call it individually. It is renamed to `controls` when using it through the `Picamera2`.\n",
    "To check the controls, you can use `controls.config`. The nice thing about this is that the function automatically compiles the controls you adjusted into a dictionary and checks their validity (within reason)."
   ]
  },
  {
   "cell_type": "code",
   "execution_count": 3,
   "metadata": {
    "pycharm": {
     "name": "#%%\n"
    }
   },
   "outputs": [
    {
     "data": {
      "text/plain": [
       "{'Contrast': 1, 'Sharpness': 1, 'NoiseReductionMode': 2}"
      ]
     },
     "execution_count": 3,
     "metadata": {},
     "output_type": "execute_result"
    }
   ],
   "source": [
    "picam2.controls.config"
   ]
  },
  {
   "cell_type": "markdown",
   "metadata": {
    "pycharm": {
     "name": "#%% md\n"
    }
   },
   "source": [
    "## Method #2: Using class attributes.\n",
    "Controls are imported from the `Controls` class, which treats each control as an attribute or property of the class."
   ]
  },
  {
   "cell_type": "code",
   "execution_count": 4,
   "metadata": {
    "pycharm": {
     "name": "#%%\n"
    }
   },
   "outputs": [
    {
     "data": {
      "text/plain": [
       "{'Contrast': 0, 'Sharpness': 0, 'NoiseReductionMode': 1}"
      ]
     },
     "execution_count": 4,
     "metadata": {},
     "output_type": "execute_result"
    }
   ],
   "source": [
    "picam2.controls.NoiseReductionMode = 1\n",
    "picam2.controls.Contrast = 0\n",
    "picam2.controls.Sharpness = 0\n",
    "\n",
    "picam2.controls.config"
   ]
  },
  {
   "cell_type": "markdown",
   "metadata": {
    "pycharm": {
     "name": "#%% md\n"
    }
   },
   "source": [
    "## Control Input Options\n",
    "\n",
    "In most cases, `the Controls` class will notify you if the control you input is the incorrect value or type when\n",
    "the camera reads in the controls. There are several ways you can input values for each control, but it depends on the control.\n",
    "\n",
    "To determine what the input types are for each control, you can use the annotation attribute of the `Controls` class. If you see something like (int,str) that means you can supply the control input as an integer OR string.\n",
    "\n",
    "As of writing this notebook, control names and enums must match the syntax of what libcamera uses.\n",
    "For example, if you input \"off\", an error will be thrown by libcamera. The correct input would be \"Off\".\n",
    "Another example would `picam2.controls.noisereductionmode` which would not register as a control option. The correct input would be `picam2.controls.NoiseReductionMode`."
   ]
  },
  {
   "cell_type": "code",
   "execution_count": 5,
   "metadata": {
    "pycharm": {
     "name": "#%%\n"
    }
   },
   "outputs": [
    {
     "data": {
      "text/plain": [
       "{'AeEnable': (int, bool),\n",
       " 'AeMeteringMode': (int, str),\n",
       " 'AeConstraintMode': (int, str),\n",
       " 'AeExposureMode': (int, str),\n",
       " 'ExposureValue': (float, int),\n",
       " 'ExposureTime': (float, int),\n",
       " 'AnalogueGain': (float, int),\n",
       " 'Brightness': (float, int),\n",
       " 'Contrast': (float, int),\n",
       " 'AwbEnable': (int, bool),\n",
       " 'AwbMode': (int, str),\n",
       " 'ColourGains': (tuple, list),\n",
       " 'Saturation': (float, int),\n",
       " 'Sharpness': (float, int),\n",
       " 'ColourCorrectionMatrix': (tuple, list),\n",
       " 'ScalerCrop': (tuple, list),\n",
       " 'DigitalGain': (float, int),\n",
       " 'FrameDurationLimits': (tuple, list),\n",
       " 'AePrecaptureTrigger': int,\n",
       " 'AfTrigger': int,\n",
       " 'NoiseReductionMode': (int, str),\n",
       " 'ColorCorrectionAberrationMode': (int, str),\n",
       " 'SceneFlicker': (int, str),\n",
       " 'PipelineDepth': int,\n",
       " 'MaxLatency': int,\n",
       " 'TestPatternMode': (int, str)}"
      ]
     },
     "execution_count": 5,
     "metadata": {},
     "output_type": "execute_result"
    }
   ],
   "source": [
    "picam2.controls.anno"
   ]
  },
  {
   "cell_type": "markdown",
   "metadata": {
    "pycharm": {
     "name": "#%% md\n"
    }
   },
   "source": [
    "For controls that configure camera modes, you can supply an integer, an enum, or string."
   ]
  },
  {
   "cell_type": "code",
   "execution_count": 6,
   "metadata": {
    "pycharm": {
     "name": "#%%\n"
    }
   },
   "outputs": [],
   "source": [
    "#These all turn off NoiseReductionMode.\n",
    "picam2.controls.NoiseReductionMode = 0\n",
    "picam2.controls.NoiseReductionMode = libcamera.NoiseReductionMode.Off\n",
    "picam2.controls.NoiseReductionMode = 'Off'"
   ]
  },
  {
   "cell_type": "markdown",
   "metadata": {
    "pycharm": {
     "name": "#%% md\n"
    }
   },
   "source": [
    "For controls that enable or disable a function, you can supply an integer or bool."
   ]
  },
  {
   "cell_type": "code",
   "execution_count": 7,
   "metadata": {
    "pycharm": {
     "name": "#%%\n"
    }
   },
   "outputs": [],
   "source": [
    "#These lines disable auto exposure mode.\n",
    "\n",
    "picam2.controls.AeEnable = 0\n",
    "picam2.controls.AeEnable = False"
   ]
  },
  {
   "cell_type": "markdown",
   "metadata": {
    "pycharm": {
     "name": "#%% md\n"
    }
   },
   "source": [
    "For controls that require an array as input, you can supply it as a tuple or a list."
   ]
  },
  {
   "cell_type": "code",
   "execution_count": 8,
   "metadata": {
    "pycharm": {
     "name": "#%%\n"
    }
   },
   "outputs": [],
   "source": [
    "#These both set the FrameDurationLimits to 33333 or 30 frames per second.\n",
    "\n",
    "picam2.controls.FrameDurationLimits = (33333,33333)\n",
    "picam2.controls.FrameDurationLimits = [33333,33333]"
   ]
  },
  {
   "cell_type": "markdown",
   "metadata": {
    "pycharm": {
     "name": "#%% md\n"
    }
   },
   "source": [
    "## Configuring the Controls\n",
    "At this stage, we actually haven't sent the controls to the camera. The neat thing is that we don't\n",
    "need to do this. This is done automatically when you tell the camera to start."
   ]
  },
  {
   "cell_type": "code",
   "execution_count": 9,
   "metadata": {
    "pycharm": {
     "name": "#%%\n"
    }
   },
   "outputs": [
    {
     "name": "stderr",
     "output_type": "stream",
     "text": [
      "[0:18:19.167344748] [1775]  INFO Camera camera.cpp:1029 configuring streams: (0) 640x480-XBGR8888\n",
      "[0:18:19.167802369] [1789]  INFO RPI raspberrypi.cpp:760 Sensor: /base/soc/i2c0mux/i2c@1/imx477@1a - Selected sensor format: 2028x1520-SBGGR12_1X12 - Selected unicam format: 2028x1520-pBCC\n",
      "[0:18:20.939766348] [1798]  INFO IPARPI raspberrypi.cpp:635 Request ctrl: NoiseReductionMode = 2\n",
      "qt.qpa.xcb: QXcbConnection: XCB error: 148 (Unknown), sequence: 192, resource id: 0, major code: 140 (Unknown), minor code: 20\n"
     ]
    }
   ],
   "source": [
    "picam2.controls.clear #You may not need this. It only clears the controls BEFORE the camera is started.\n",
    "picam2.controls.NoiseReductionMode = 1\n",
    "\n",
    "picam2.configure(picam2.preview_configuration())\n",
    "picam2.start_preview(Preview.QTGL)\n",
    "picam2.start()\n"
   ]
  },
  {
   "cell_type": "markdown",
   "metadata": {
    "pycharm": {
     "name": "#%% md\n"
    }
   },
   "source": [
    "## Control Manipulation\n",
    "\n",
    "All of the controls are technically class variables. That means that all instances of the class share the same values.\n",
    "So controls can be updated by either method after the camera has already started, without having to start the camera again."
   ]
  },
  {
   "cell_type": "code",
   "execution_count": 10,
   "metadata": {
    "pycharm": {
     "name": "#%%\n"
    }
   },
   "outputs": [
    {
     "name": "stderr",
     "output_type": "stream",
     "text": [
      "[0:18:22.053895820] [1798]  INFO IPARPI raspberrypi.cpp:635 Request ctrl: NoiseReductionMode = 2\n",
      "[0:18:22.053950115] [1798]  INFO IPARPI raspberrypi.cpp:635 Request ctrl: Brightness = 0.050000\n",
      "[0:18:22.723722336] [1798]  INFO IPARPI raspberrypi.cpp:635 Request ctrl: Brightness = 0.100000\n",
      "[0:18:24.012997749] [1798]  INFO IPARPI raspberrypi.cpp:635 Request ctrl: Brightness = 0.150000\n",
      "[0:18:25.005245387] [1798]  INFO IPARPI raspberrypi.cpp:635 Request ctrl: Brightness = 0.200000\n",
      "[0:18:26.004152116] [1798]  INFO IPARPI raspberrypi.cpp:635 Request ctrl: Brightness = 0.250000\n",
      "[0:18:27.003592425] [1798]  INFO IPARPI raspberrypi.cpp:635 Request ctrl: Brightness = 0.300000\n",
      "[0:18:28.005935804] [1798]  INFO IPARPI raspberrypi.cpp:635 Request ctrl: Brightness = 0.350000\n",
      "[0:18:29.005101668] [1798]  INFO IPARPI raspberrypi.cpp:635 Request ctrl: Brightness = 0.400000\n",
      "[0:18:30.005799037] [1798]  INFO IPARPI raspberrypi.cpp:635 Request ctrl: Brightness = 0.450000\n",
      "[0:18:31.006512346] [1798]  INFO IPARPI raspberrypi.cpp:635 Request ctrl: Brightness = 0.500000\n",
      "[0:18:32.004173359] [1798]  INFO IPARPI raspberrypi.cpp:635 Request ctrl: Brightness = 0.550000\n",
      "[0:18:33.004429837] [1798]  INFO IPARPI raspberrypi.cpp:635 Request ctrl: Brightness = 0.600000\n",
      "[0:18:34.003704552] [1798]  INFO IPARPI raspberrypi.cpp:635 Request ctrl: Brightness = 0.650000\n",
      "[0:18:35.004224111] [1798]  INFO IPARPI raspberrypi.cpp:635 Request ctrl: Brightness = 0.700000\n",
      "[0:18:36.004944291] [1798]  INFO IPARPI raspberrypi.cpp:635 Request ctrl: Brightness = 0.750000\n",
      "[0:18:37.005849057] [1798]  INFO IPARPI raspberrypi.cpp:635 Request ctrl: Brightness = 0.800000\n",
      "[0:18:38.004842984] [1798]  INFO IPARPI raspberrypi.cpp:635 Request ctrl: Brightness = 0.850000\n",
      "[0:18:39.004907479] [1798]  INFO IPARPI raspberrypi.cpp:635 Request ctrl: Brightness = 0.900000\n",
      "[0:18:40.004485776] [1798]  INFO IPARPI raspberrypi.cpp:635 Request ctrl: Brightness = 0.950000\n",
      "[0:18:41.004951255] [1798]  INFO IPARPI raspberrypi.cpp:635 Request ctrl: Brightness = 1.000000\n"
     ]
    },
    {
     "data": {
      "text/plain": [
       "True"
      ]
     },
     "execution_count": 10,
     "metadata": {},
     "output_type": "execute_result"
    }
   ],
   "source": [
    "for i in range(0,20):\n",
    "    j = i/20 + 0.05\n",
    "    picam2.controls.Brightness = j\n",
    "    time.sleep(1)"
   ]
  },
  {
   "cell_type": "markdown",
   "source": [
    "Then to check the current controls we can use the `current` function."
   ],
   "metadata": {
    "collapsed": false,
    "pycharm": {
     "name": "#%% md\n"
    }
   }
  },
  {
   "cell_type": "code",
   "execution_count": null,
   "outputs": [],
   "source": [
    "picam2.controls.current"
   ],
   "metadata": {
    "collapsed": false,
    "pycharm": {
     "name": "#%%\n"
    }
   }
  },
  {
   "cell_type": "markdown",
   "metadata": {
    "pycharm": {
     "name": "#%% md\n"
    }
   },
   "source": [
    "## Current Settings\n",
    "\n",
    "After the settings that you assign are passed to the camera, the Controls()\n",
    "class is effectively reset so that there is no risk of repetition. However,\n",
    "the Controls() class does keep track of the current settings of the camera.\n",
    "The current settings are always the settings that you last sent to the camera and that were accepted.\n",
    "\n",
    "If we look at the current settings now, we should see that the NoiseReductionMode is set to 2\n",
    "and the Brightness is 1."
   ]
  },
  {
   "cell_type": "markdown",
   "metadata": {
    "pycharm": {
     "name": "#%% md\n"
    }
   },
   "source": [
    "## Resetting Controls (in development)\n",
    "\n",
    "If you wanted to reset the controls to what they were when you first turned on the camera,\n",
    "you can issue the `reset` command. But first, we need to find out what the default controls were. If you compare it to the `ranges` function in the following cell, you may notice that some values are 0 when the 0 is technically outside the limits. This just means that the camera is handling these internally or in an automatic mode."
   ]
  },
  {
   "cell_type": "code",
   "execution_count": 12,
   "metadata": {
    "pycharm": {
     "name": "#%%\n"
    }
   },
   "outputs": [
    {
     "data": {
      "text/plain": [
       "{'FrameDurationLimits': [0, 0],\n",
       " 'ColourCorrectionMatrix': [0, 0, 0, 0, 0, 0, 0, 0, 0],\n",
       " 'NoiseReductionMode': 0,\n",
       " 'Contrast': 1.0,\n",
       " 'AwbMode': 0,\n",
       " 'ScalerCrop': (0, 0, 0, 0),\n",
       " 'AwbEnable': 0,\n",
       " 'ExposureValue': 0.0,\n",
       " 'ColourGains': [0, 0],\n",
       " 'AeExposureMode': 0,\n",
       " 'Sharpness': 1.0,\n",
       " 'Brightness': 0.0,\n",
       " 'AeConstraintMode': 0,\n",
       " 'AeMeteringMode': 0,\n",
       " 'AnalogueGain': 0,\n",
       " 'Saturation': 1.0,\n",
       " 'ExposureTime': 0,\n",
       " 'AeEnable': 0}"
      ]
     },
     "execution_count": 12,
     "metadata": {},
     "output_type": "execute_result"
    }
   ],
   "source": [
    "picam2.controls.defaults #This is a read-only property and will reflect whatever comes out of Picamera2().camera.controls."
   ]
  },
  {
   "cell_type": "code",
   "execution_count": 13,
   "metadata": {
    "pycharm": {
     "name": "#%%\n"
    }
   },
   "outputs": [
    {
     "data": {
      "text/plain": [
       "{'AeEnable': 0,\n",
       " 'AeMeteringMode': 0,\n",
       " 'AeConstraintMode': 0,\n",
       " 'AeExposureMode': 0,\n",
       " 'ExposureValue': 0.0,\n",
       " 'ExposureTime': 0,\n",
       " 'AnalogueGain': 0,\n",
       " 'Brightness': 0.0,\n",
       " 'Contrast': 1.0,\n",
       " 'AwbEnable': 0,\n",
       " 'AwbMode': 0,\n",
       " 'ColourGains': [0, 0],\n",
       " 'Saturation': 1.0,\n",
       " 'Sharpness': 1.0,\n",
       " 'ColourCorrectionMatrix': [0, 0, 0, 0, 0, 0, 0, 0, 0],\n",
       " 'ScalerCrop': (0, 0, 0, 0),\n",
       " 'FrameDurationLimits': [0, 0],\n",
       " 'NoiseReductionMode': 0}"
      ]
     },
     "execution_count": 13,
     "metadata": {},
     "output_type": "execute_result"
    }
   ],
   "source": [
    "picam2.controls.reset #Read only. Accepts no inputs.\n",
    "picam2.controls.config"
   ]
  },
  {
   "cell_type": "markdown",
   "metadata": {
    "pycharm": {
     "name": "#%% md\n"
    }
   },
   "source": [
    "We can see that the changes in the output reflect the values in the defaults."
   ]
  },
  {
   "cell_type": "markdown",
   "metadata": {
    "pycharm": {
     "name": "#%% md\n"
    }
   },
   "source": [
    "## Control Ranges (in development)\n",
    "To get an idea of the valid ranges for each control, you can use the ranges function."
   ]
  },
  {
   "cell_type": "code",
   "execution_count": 14,
   "metadata": {
    "pycharm": {
     "name": "#%%\n"
    }
   },
   "outputs": [
    {
     "data": {
      "text/plain": [
       "{'FrameDurationLimits': {'min': 1000, 'max': 1000000000},\n",
       " 'ColourCorrectionMatrix': {'min': -16.0, 'max': 16.0},\n",
       " 'NoiseReductionMode': {'min': 0, 'max': 4},\n",
       " 'Contrast': {'min': 0.0, 'max': 32.0},\n",
       " 'AwbMode': {'min': 0, 'max': 7},\n",
       " 'ScalerCrop': {'min': (0, 0, 0, 0), 'max': (65535, 65535, 65535, 65535)},\n",
       " 'AwbEnable': {'min': False, 'max': True},\n",
       " 'ExposureValue': {'min': -8.0, 'max': 8.0},\n",
       " 'ColourGains': {'min': 0.0, 'max': 32.0},\n",
       " 'AeExposureMode': {'min': 0, 'max': 3},\n",
       " 'Sharpness': {'min': 0.0, 'max': 16.0},\n",
       " 'Brightness': {'min': -1.0, 'max': 1.0},\n",
       " 'AeConstraintMode': {'min': 0, 'max': 3},\n",
       " 'AeMeteringMode': {'min': 0, 'max': 3},\n",
       " 'AnalogueGain': {'min': 1.0, 'max': 32.0},\n",
       " 'Saturation': {'min': 0.0, 'max': 32.0},\n",
       " 'ExposureTime': {'min': 0, 'max': 999999},\n",
       " 'AeEnable': {'min': False, 'max': True}}"
      ]
     },
     "execution_count": 14,
     "metadata": {},
     "output_type": "execute_result"
    }
   ],
   "source": [
    "picam2.controls.ranges #Read only."
   ]
  },
  {
   "cell_type": "markdown",
   "source": [
    "## End of Example"
   ],
   "metadata": {
    "collapsed": false,
    "pycharm": {
     "name": "#%% md\n"
    }
   }
  },
  {
   "cell_type": "code",
   "execution_count": 11,
   "outputs": [],
   "source": [
    "picam2.stop_preview()\n",
    "picam2.stop()\n",
    "picam2.close()"
   ],
   "metadata": {
    "collapsed": false,
    "pycharm": {
     "name": "#%%\n"
    }
   }
  }
 ],
 "metadata": {
  "kernelspec": {
   "display_name": "Python 3 (ipykernel)",
   "language": "python",
   "name": "python3"
  },
  "language_info": {
   "codemirror_mode": {
    "name": "ipython",
    "version": 3
   },
   "file_extension": ".py",
   "mimetype": "text/x-python",
   "name": "python",
   "nbconvert_exporter": "python",
   "pygments_lexer": "ipython3",
   "version": "3.9.2"
  }
 },
 "nbformat": 4,
 "nbformat_minor": 1
}